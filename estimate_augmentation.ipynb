{
 "cells": [
  {
   "cell_type": "code",
   "execution_count": 1,
   "metadata": {},
   "outputs": [],
   "source": [
    "from get_dataloaders import get_dataloaders\n",
    "from get_transform import get_transform\n",
    " \n",
    "import shutil\n",
    "from torchvision.utils import save_image\n",
    "import os\n",
    "import numpy as np\n",
    "np.bool = np.bool_\n",
    "parameters={'batch_size':1, 'magnitude':8, 'coarse_dropout':0.05}\n",
    "\n",
    " "
   ]
  },
  {
   "cell_type": "code",
   "execution_count": 2,
   "metadata": {},
   "outputs": [],
   "source": [
    "training_loader, validation_loader = get_dataloaders('/home/vlad/projects/vipaks/src/car_dataset.csv', \n",
    "                                                     parameters,\n",
    "                                                     get_transform('estimate_augmentation',parameters), \n",
    "                                                     get_transform('estimate_augmentation',parameters))"
   ]
  },
  {
   "cell_type": "code",
   "execution_count": 3,
   "metadata": {},
   "outputs": [],
   "source": [
    "path_to_folder = '/home/vlad/projects/vipaks/src/estimate_augmentation'\n"
   ]
  },
  {
   "cell_type": "code",
   "execution_count": 4,
   "metadata": {},
   "outputs": [],
   "source": [
    "\n",
    "count=0 \n",
    "epoch = 40 \n",
    "shutil.rmtree(path_to_folder,ignore_errors=True)\n",
    "os.makedirs(path_to_folder,exist_ok=True)\n",
    "classes = []\n",
    "for _ in range(epoch):\n",
    "    for i, (image, class_) in enumerate(iter(training_loader)):\n",
    "        classes+=[class_.numpy()[0]]\n",
    "        save_image(image, os.path.join(path_to_folder,   f\"{str(count)}_{class_.numpy()[0]}_{str(i)}.png\"))\n",
    "        count+=1"
   ]
  },
  {
   "cell_type": "code",
   "execution_count": 5,
   "metadata": {},
   "outputs": [
    {
     "data": {
      "text/plain": [
       "c\n",
       "0    857\n",
       "2    834\n",
       "1    829\n",
       "Name: count, dtype: int64"
      ]
     },
     "execution_count": 5,
     "metadata": {},
     "output_type": "execute_result"
    }
   ],
   "source": [
    "import pandas as pd\n",
    "pd.DataFrame(classes,columns=['c'])['c'].value_counts()\n",
    " "
   ]
  }
 ],
 "metadata": {
  "kernelspec": {
   "display_name": "berds_vs_drons",
   "language": "python",
   "name": "python3"
  },
  "language_info": {
   "codemirror_mode": {
    "name": "ipython",
    "version": 3
   },
   "file_extension": ".py",
   "mimetype": "text/x-python",
   "name": "python",
   "nbconvert_exporter": "python",
   "pygments_lexer": "ipython3",
   "version": "3.11.7"
  }
 },
 "nbformat": 4,
 "nbformat_minor": 2
}
