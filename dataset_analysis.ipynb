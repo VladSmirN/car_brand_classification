{
 "cells": [
  {
   "cell_type": "code",
   "execution_count": 2,
   "metadata": {},
   "outputs": [],
   "source": [
    "import glob\n",
    "import pandas as pd \n",
    "import os\n",
    "import cv2"
   ]
  },
  {
   "cell_type": "code",
   "execution_count": 6,
   "metadata": {},
   "outputs": [],
   "source": [
    "paths =glob.glob('/home/vlad/projects/vipaks/auto/*.*')\n",
    "df = pd.DataFrame(paths,columns=['path'])\n",
    "df['filename'] = df['path'].apply(lambda path : os.path.basename(path))\n",
    "df['car_type'] = df['filename'].apply(lambda filename : f\"{filename.split('_')[0]}_{filename.split('_')[1]}\")\n",
    "df['height'] = df['path'].apply(lambda path : cv2.imread(path).shape[0])\n",
    "df['width'] = df['path'].apply(lambda path : cv2.imread(path).shape[0])"
   ]
  },
  {
   "cell_type": "code",
   "execution_count": 7,
   "metadata": {},
   "outputs": [
    {
     "data": {
      "text/html": [
       "<div>\n",
       "<style scoped>\n",
       "    .dataframe tbody tr th:only-of-type {\n",
       "        vertical-align: middle;\n",
       "    }\n",
       "\n",
       "    .dataframe tbody tr th {\n",
       "        vertical-align: top;\n",
       "    }\n",
       "\n",
       "    .dataframe thead th {\n",
       "        text-align: right;\n",
       "    }\n",
       "</style>\n",
       "<table border=\"1\" class=\"dataframe\">\n",
       "  <thead>\n",
       "    <tr style=\"text-align: right;\">\n",
       "      <th></th>\n",
       "      <th>path</th>\n",
       "      <th>filename</th>\n",
       "      <th>car_type</th>\n",
       "      <th>height</th>\n",
       "      <th>width</th>\n",
       "    </tr>\n",
       "  </thead>\n",
       "  <tbody>\n",
       "    <tr>\n",
       "      <th>0</th>\n",
       "      <td>/home/vlad/projects/vipaks/auto/Acura_MDX_2012...</td>\n",
       "      <td>Acura_MDX_2012_43_18_300_37_6_78_68_191_16_AWD...</td>\n",
       "      <td>Acura_MDX</td>\n",
       "      <td>213</td>\n",
       "      <td>213</td>\n",
       "    </tr>\n",
       "    <tr>\n",
       "      <th>1</th>\n",
       "      <td>/home/vlad/projects/vipaks/auto/Acura_NSX_2005...</td>\n",
       "      <td>Acura_NSX_2005_89_17_250_30_6_71_46_174_17_RWD...</td>\n",
       "      <td>Acura_NSX</td>\n",
       "      <td>240</td>\n",
       "      <td>240</td>\n",
       "    </tr>\n",
       "    <tr>\n",
       "      <th>2</th>\n",
       "      <td>/home/vlad/projects/vipaks/auto/Acura_ILX_2014...</td>\n",
       "      <td>Acura_ILX_2014_28_16_110_15_4_70_55_179_39_FWD...</td>\n",
       "      <td>Acura_ILX</td>\n",
       "      <td>240</td>\n",
       "      <td>240</td>\n",
       "    </tr>\n",
       "    <tr>\n",
       "      <th>3</th>\n",
       "      <td>/home/vlad/projects/vipaks/auto/Acura_MDX_2019...</td>\n",
       "      <td>Acura_MDX_2019_44_18_290_35_6_77_67_196_20_FWD...</td>\n",
       "      <td>Acura_MDX</td>\n",
       "      <td>240</td>\n",
       "      <td>240</td>\n",
       "    </tr>\n",
       "    <tr>\n",
       "      <th>4</th>\n",
       "      <td>/home/vlad/projects/vipaks/auto/Acura_MDX_2012...</td>\n",
       "      <td>Acura_MDX_2012_43_18_300_37_6_78_68_191_16_AWD...</td>\n",
       "      <td>Acura_MDX</td>\n",
       "      <td>240</td>\n",
       "      <td>240</td>\n",
       "    </tr>\n",
       "    <tr>\n",
       "      <th>...</th>\n",
       "      <td>...</td>\n",
       "      <td>...</td>\n",
       "      <td>...</td>\n",
       "      <td>...</td>\n",
       "      <td>...</td>\n",
       "    </tr>\n",
       "    <tr>\n",
       "      <th>176</th>\n",
       "      <td>/home/vlad/projects/vipaks/auto/Acura_MDX_2012...</td>\n",
       "      <td>Acura_MDX_2012_43_18_300_37_6_78_68_191_16_AWD...</td>\n",
       "      <td>Acura_MDX</td>\n",
       "      <td>240</td>\n",
       "      <td>240</td>\n",
       "    </tr>\n",
       "    <tr>\n",
       "      <th>177</th>\n",
       "      <td>/home/vlad/projects/vipaks/auto/Acura_MDX_2019...</td>\n",
       "      <td>Acura_MDX_2019_44_18_290_35_6_77_67_196_20_FWD...</td>\n",
       "      <td>Acura_MDX</td>\n",
       "      <td>240</td>\n",
       "      <td>240</td>\n",
       "    </tr>\n",
       "    <tr>\n",
       "      <th>178</th>\n",
       "      <td>/home/vlad/projects/vipaks/auto/Acura_MDX_2012...</td>\n",
       "      <td>Acura_MDX_2012_43_18_300_37_6_78_68_191_16_AWD...</td>\n",
       "      <td>Acura_MDX</td>\n",
       "      <td>213</td>\n",
       "      <td>213</td>\n",
       "    </tr>\n",
       "    <tr>\n",
       "      <th>179</th>\n",
       "      <td>/home/vlad/projects/vipaks/auto/Acura_NSX_2005...</td>\n",
       "      <td>Acura_NSX_2005_89_17_250_30_6_71_46_174_17_RWD...</td>\n",
       "      <td>Acura_NSX</td>\n",
       "      <td>240</td>\n",
       "      <td>240</td>\n",
       "    </tr>\n",
       "    <tr>\n",
       "      <th>180</th>\n",
       "      <td>/home/vlad/projects/vipaks/auto/Acura_NSX_2005...</td>\n",
       "      <td>Acura_NSX_2005_89_17_250_30_6_71_46_174_17_RWD...</td>\n",
       "      <td>Acura_NSX</td>\n",
       "      <td>240</td>\n",
       "      <td>240</td>\n",
       "    </tr>\n",
       "  </tbody>\n",
       "</table>\n",
       "<p>181 rows × 5 columns</p>\n",
       "</div>"
      ],
      "text/plain": [
       "                                                  path  \\\n",
       "0    /home/vlad/projects/vipaks/auto/Acura_MDX_2012...   \n",
       "1    /home/vlad/projects/vipaks/auto/Acura_NSX_2005...   \n",
       "2    /home/vlad/projects/vipaks/auto/Acura_ILX_2014...   \n",
       "3    /home/vlad/projects/vipaks/auto/Acura_MDX_2019...   \n",
       "4    /home/vlad/projects/vipaks/auto/Acura_MDX_2012...   \n",
       "..                                                 ...   \n",
       "176  /home/vlad/projects/vipaks/auto/Acura_MDX_2012...   \n",
       "177  /home/vlad/projects/vipaks/auto/Acura_MDX_2019...   \n",
       "178  /home/vlad/projects/vipaks/auto/Acura_MDX_2012...   \n",
       "179  /home/vlad/projects/vipaks/auto/Acura_NSX_2005...   \n",
       "180  /home/vlad/projects/vipaks/auto/Acura_NSX_2005...   \n",
       "\n",
       "                                              filename   car_type  height  \\\n",
       "0    Acura_MDX_2012_43_18_300_37_6_78_68_191_16_AWD...  Acura_MDX     213   \n",
       "1    Acura_NSX_2005_89_17_250_30_6_71_46_174_17_RWD...  Acura_NSX     240   \n",
       "2    Acura_ILX_2014_28_16_110_15_4_70_55_179_39_FWD...  Acura_ILX     240   \n",
       "3    Acura_MDX_2019_44_18_290_35_6_77_67_196_20_FWD...  Acura_MDX     240   \n",
       "4    Acura_MDX_2012_43_18_300_37_6_78_68_191_16_AWD...  Acura_MDX     240   \n",
       "..                                                 ...        ...     ...   \n",
       "176  Acura_MDX_2012_43_18_300_37_6_78_68_191_16_AWD...  Acura_MDX     240   \n",
       "177  Acura_MDX_2019_44_18_290_35_6_77_67_196_20_FWD...  Acura_MDX     240   \n",
       "178  Acura_MDX_2012_43_18_300_37_6_78_68_191_16_AWD...  Acura_MDX     213   \n",
       "179  Acura_NSX_2005_89_17_250_30_6_71_46_174_17_RWD...  Acura_NSX     240   \n",
       "180  Acura_NSX_2005_89_17_250_30_6_71_46_174_17_RWD...  Acura_NSX     240   \n",
       "\n",
       "     width  \n",
       "0      213  \n",
       "1      240  \n",
       "2      240  \n",
       "3      240  \n",
       "4      240  \n",
       "..     ...  \n",
       "176    240  \n",
       "177    240  \n",
       "178    213  \n",
       "179    240  \n",
       "180    240  \n",
       "\n",
       "[181 rows x 5 columns]"
      ]
     },
     "execution_count": 7,
     "metadata": {},
     "output_type": "execute_result"
    }
   ],
   "source": [
    "df"
   ]
  },
  {
   "cell_type": "code",
   "execution_count": 8,
   "metadata": {},
   "outputs": [
    {
     "data": {
      "text/plain": [
       "height\n",
       "240    106\n",
       "213     49\n",
       "160     12\n",
       "175      2\n",
       "207      1\n",
       "234      1\n",
       "200      1\n",
       "209      1\n",
       "186      1\n",
       "201      1\n",
       "148      1\n",
       "241      1\n",
       "214      1\n",
       "223      1\n",
       "206      1\n",
       "164      1\n",
       "Name: count, dtype: int64"
      ]
     },
     "execution_count": 8,
     "metadata": {},
     "output_type": "execute_result"
    }
   ],
   "source": [
    "df['height'].value_counts()"
   ]
  },
  {
   "cell_type": "code",
   "execution_count": 9,
   "metadata": {},
   "outputs": [
    {
     "data": {
      "text/plain": [
       "width\n",
       "240    106\n",
       "213     49\n",
       "160     12\n",
       "175      2\n",
       "207      1\n",
       "234      1\n",
       "200      1\n",
       "209      1\n",
       "186      1\n",
       "201      1\n",
       "148      1\n",
       "241      1\n",
       "214      1\n",
       "223      1\n",
       "206      1\n",
       "164      1\n",
       "Name: count, dtype: int64"
      ]
     },
     "execution_count": 9,
     "metadata": {},
     "output_type": "execute_result"
    }
   ],
   "source": [
    "df['width'].value_counts()"
   ]
  },
  {
   "cell_type": "code",
   "execution_count": 10,
   "metadata": {},
   "outputs": [
    {
     "data": {
      "text/plain": [
       "car_type\n",
       "Acura_MDX    72\n",
       "Acura_ILX    58\n",
       "Acura_NSX    51\n",
       "Name: count, dtype: int64"
      ]
     },
     "execution_count": 10,
     "metadata": {},
     "output_type": "execute_result"
    }
   ],
   "source": [
    "df['car_type'].value_counts()\n"
   ]
  },
  {
   "cell_type": "code",
   "execution_count": 11,
   "metadata": {},
   "outputs": [],
   "source": [
    "df[['path', 'car_type']].to_csv('/home/vlad/projects/vipaks/src/car_dataset.csv', index=False)"
   ]
  }
 ],
 "metadata": {
  "kernelspec": {
   "display_name": "berds_vs_drons",
   "language": "python",
   "name": "python3"
  },
  "language_info": {
   "codemirror_mode": {
    "name": "ipython",
    "version": 3
   },
   "file_extension": ".py",
   "mimetype": "text/x-python",
   "name": "python",
   "nbconvert_exporter": "python",
   "pygments_lexer": "ipython3",
   "version": "3.11.7"
  }
 },
 "nbformat": 4,
 "nbformat_minor": 2
}
